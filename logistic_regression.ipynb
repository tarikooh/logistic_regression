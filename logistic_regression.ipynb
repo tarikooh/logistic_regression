{
 "cells": [
  {
   "cell_type": "markdown",
   "id": "6d000a31-7a27-49a0-b79a-22d1c6340b86",
   "metadata": {},
   "source": [
    "### what do i need to import here what will i be working with\n",
    "- i need a h5py, to extract the data\n",
    "- i'm not gonna use the scikit-learn class right now because i'll be implementing the model\n",
    "  by my own.\n",
    "- that means i need a package/library that can handle matrices.\n",
    "- i also need a plotting library\n",
    "- i also need a library that provides mean and variance incase i need to scale the data"
   ]
  },
  {
   "cell_type": "code",
   "execution_count": 320,
   "id": "941d1312",
   "metadata": {},
   "outputs": [],
   "source": [
    "import h5py\n",
    "import numpy as np\n",
    "import matplotlib.pyplot as plt\n",
    "import scipy as sp"
   ]
  },
  {
   "cell_type": "markdown",
   "id": "4ede0613-aced-4745-9171-b4c333de217e",
   "metadata": {
    "vscode": {
     "languageId": "plaintext"
    }
   },
   "source": [
    "how to extract the data from .h5 file somehow"
   ]
  },
  {
   "cell_type": "code",
   "execution_count": 321,
   "id": "bc3b8b9f-e9a4-4538-b26d-8f3b2849fb42",
   "metadata": {},
   "outputs": [
    {
     "name": "stdout",
     "output_type": "stream",
     "text": [
      "train_x shape: (209, 12288)\n",
      "train_y shape: (209, 1)\n",
      "test_X shape: (50, 12288)\n",
      "test_y shape: (50, 1)\n"
     ]
    }
   ],
   "source": [
    "traindata = h5py.File('./catvnoncat/train_catvnoncat.h5')\n",
    "train_X = np.array(traindata['train_set_x'])\n",
    "train_y = np.array(traindata['train_set_y'])\n",
    "train_X = train_X.reshape((train_X.shape[0], -1));\n",
    "train_y.resize(train_y.shape[0], 1) \n",
    "print(\"train_x shape: \" + str(train_X.shape));\n",
    "print(\"train_y shape: \" + str(train_y.shape));\n",
    "\n",
    "testdata = h5py.File(\"catvnoncat/test_catvnoncat.h5\");\n",
    "test_X = np.array(testdata['test_set_x'])\n",
    "test_y = np.array(testdata['test_set_y'])\n",
    "test_X = test_X.reshape(test_X.shape[0], -1);\n",
    "test_y.resize(test_y.shape[0], 1);\n",
    "print(\"test_X shape: \" + str(test_X.shape));\n",
    "print(\"test_y shape: \" + str(test_y.shape));"
   ]
  },
  {
   "cell_type": "code",
   "execution_count": 328,
   "id": "61b079e7",
   "metadata": {},
   "outputs": [],
   "source": [
    "\n",
    "class LogisticRegression_M:\n",
    "    NUM_ITERATION = 100\n",
    "    TOTAL_EXAMPLES = 0\n",
    "    SIZE = 0\n",
    "    W = np.zeros((1,1));\n",
    "    b = np.zeros((1,1));\n",
    "    w_factor = 0.001;\n",
    "    b_factor = 0.001;\n",
    "\n",
    "    def __init__(self, no_iteration, update_factor):\n",
    "        self.NUM_ITERATION = no_iteration;\n",
    "        self.w_factor = update_factor;\n",
    "        self.b_factor = update_factor;\n",
    "\n",
    "    def _preprocess_input(self, X):\n",
    "        scaled_X = (X - np.mean(X))/np.std(X)\n",
    "        return scaled_X\n",
    "\n",
    "    def __initialize_parameters(self, X, y):\n",
    "        self.SIZE = X.shape[1:][0];\n",
    "        self.TOTAL_EXAMPLES = X.shape[0];\n",
    "        self.W = np.random.rand(self.SIZE, 1)/255;\n",
    "        #self.b = np.zeros((self.TOTAL_EXAMPLES,1))\n",
    "        self.b = np.zeros((1,))\n",
    "\n",
    "    def __sigmoid(self,x):\n",
    "        return 1/(1 + np.exp(-x) + 1e-8);\n",
    "\n",
    "    def __calculate_output(self, W, scaled_X, b):\n",
    "        output = self.__sigmoid(np.dot(scaled_X, W) + b);\n",
    "        #print(output.shape);\n",
    "        #output[:10]\n",
    "        return output;\n",
    "\n",
    "    def __calculate_loss(self, output, raw_y_array):\n",
    "        cost = -( raw_y_array*np.log(output) + (1 - raw_y_array)*np.log(1 - output) )\n",
    "        cost = cost.reshape(-1)\n",
    "        #print(cost[:10]);\n",
    "        #print(cost[:10]);\n",
    "        #print(cost.reshape(-1)[:10]);\n",
    "        loss = np.sum(cost);\n",
    "        #print(loss);\n",
    "        #loss.item();\n",
    "        return loss;\n",
    "        \n",
    "\n",
    "    def __calculate_derivatives(self, scaled_X, output, raw_y_array):\n",
    "        dw = np.dot(scaled_X.T, output - raw_y_array);\n",
    "        #print(dw.shape);\n",
    "        #print(dw[:5]);\n",
    "\n",
    "        db = np.mean(output - raw_y_array);\n",
    "        #print(db.shape);\n",
    "        #print(db[:5]);\n",
    "\n",
    "        return dw, db;\n",
    "\n",
    "    def __update_parameters(self, dw, db):\n",
    "        self.W -= self.w_factor*dw;\n",
    "        self.b -= self.b_factor*db;\n",
    "\n",
    "    def fit(self, raw_X_array, raw_y_array):\n",
    "        losses = []\n",
    "        scaled_X =  self._preprocess_input(raw_X_array);\n",
    "        self.__initialize_parameters(raw_X_array, raw_y_array);\n",
    "        for i in range(self.NUM_ITERATION+1):\n",
    "            output = self.__calculate_output(self.W, scaled_X, self.b);\n",
    "            loss = self.__calculate_loss(output, raw_y_array);\n",
    "            losses.append(i); losses.append(loss.item());\n",
    "            dw, db = self.__calculate_derivatives(scaled_X, output, raw_y_array);\n",
    "            self.__update_parameters(dw, db);\n",
    "\n",
    "            if(i % 10 == 0):\n",
    "                print(str(i) + \", loss = \" + str(loss.item()));\n",
    "\n",
    "        return self.W, self.b;\n",
    "\n",
    "    def predict(self, X):\n",
    "        X = self._preprocess_input(X);\n",
    "        output = self.__calculate_output(self.W, X, self.b);\n",
    "        #print(output.shape);\n",
    "        output = (output > 0.5).astype(int);\n",
    "        return output;\n",
    "\n",
    "    \n",
    "        "
   ]
  },
  {
   "cell_type": "code",
   "execution_count": 329,
   "id": "bfa565d8",
   "metadata": {},
   "outputs": [
    {
     "name": "stdout",
     "output_type": "stream",
     "text": [
      "0, loss = 846.1751646186374\n",
      "10, loss = 2949.2803693395254\n",
      "20, loss = 2406.118804406712\n",
      "30, loss = 957.0096983228921\n",
      "40, loss = 593.6545204744035\n",
      "50, loss = 61.86582457570259\n",
      "60, loss = 17.48247993727522\n",
      "70, loss = 0.19769686718566792\n",
      "80, loss = 0.12601929492699343\n",
      "90, loss = 0.1000953446215119\n",
      "100, loss = 0.08529906318653134\n"
     ]
    },
    {
     "data": {
      "text/plain": [
       "(array([[ 0.0867758 ],\n",
       "        [-0.11150334],\n",
       "        [-0.06778502],\n",
       "        ...,\n",
       "        [-0.02138422],\n",
       "        [-0.14631137],\n",
       "        [ 0.144795  ]], shape=(12288, 1)),\n",
       " array([-0.00067793]))"
      ]
     },
     "execution_count": 329,
     "metadata": {},
     "output_type": "execute_result"
    }
   ],
   "source": [
    "model_M = LogisticRegression_M(100, 0.001);\n",
    "model_M.fit(train_X, train_y)"
   ]
  },
  {
   "cell_type": "code",
   "execution_count": 331,
   "id": "70e1050a",
   "metadata": {},
   "outputs": [
    {
     "name": "stdout",
     "output_type": "stream",
     "text": [
      "Accuracy of my model on the test set: 68.0%\n"
     ]
    }
   ],
   "source": [
    "output_M = model_M.predict(test_X);\n",
    "#print(output[:3]);\n",
    "#print(test_y[:3]);\n",
    "accuracy = np.sum((output_M == test_y).astype(int))/test_y.shape[0]*100;\n",
    "print(\"Accuracy of my model on the test set: \" + str(accuracy) + \"%\");"
   ]
  },
  {
   "cell_type": "code",
   "execution_count": 333,
   "id": "b3cd47ca",
   "metadata": {},
   "outputs": [],
   "source": [
    "from sklearn.linear_model import LinearRegression;\n"
   ]
  },
  {
   "cell_type": "code",
   "execution_count": 338,
   "id": "c8862f20",
   "metadata": {},
   "outputs": [
    {
     "name": "stdout",
     "output_type": "stream",
     "text": [
      "(50, 1)\n",
      "Accuracy of model from sklearn on the test set: 64.0%\n"
     ]
    }
   ],
   "source": [
    "model = LinearRegression();\n",
    "model.fit(train_X, train_y);\n",
    "output = model.predict(test_X)\n",
    "output = (output > 0.5).astype(int);\n",
    "print(output.shape)\n",
    "accuracy = np.sum((output == test_y).astype(int))/test_y.shape[0]*100;\n",
    "print(\"Accuracy of model from sklearn on the test set: \" + str(accuracy) + \"%\");"
   ]
  }
 ],
 "metadata": {
  "kernelspec": {
   "display_name": "Python (easy)",
   "language": "python",
   "name": "easy"
  },
  "language_info": {
   "codemirror_mode": {
    "name": "ipython",
    "version": 3
   },
   "file_extension": ".py",
   "mimetype": "text/x-python",
   "name": "python",
   "nbconvert_exporter": "python",
   "pygments_lexer": "ipython3",
   "version": "3.13.5"
  }
 },
 "nbformat": 4,
 "nbformat_minor": 5
}
