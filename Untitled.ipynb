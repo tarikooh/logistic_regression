{
 "cells": [
  {
   "cell_type": "code",
   "execution_count": 4,
   "id": "d64b0991-4a27-40f5-95c0-8dbaeebc688e",
   "metadata": {},
   "outputs": [
    {
     "name": "stdout",
     "output_type": "stream",
     "text": [
      "hello people\n"
     ]
    }
   ],
   "source": [
    "print(\"hello people\")"
   ]
  },
  {
   "cell_type": "code",
   "execution_count": null,
   "id": "61786fc1-a5d4-4f6f-83a0-bc3c75844eae",
   "metadata": {},
   "outputs": [],
   "source": []
  }
 ],
 "metadata": {
  "kernelspec": {
   "display_name": "Python (easy)",
   "language": "python",
   "name": "easy"
  },
  "language_info": {
   "codemirror_mode": {
    "name": "ipython",
    "version": 3
   },
   "file_extension": ".py",
   "mimetype": "text/x-python",
   "name": "python",
   "nbconvert_exporter": "python",
   "pygments_lexer": "ipython3",
   "version": "3.13.5"
  }
 },
 "nbformat": 4,
 "nbformat_minor": 5
}
