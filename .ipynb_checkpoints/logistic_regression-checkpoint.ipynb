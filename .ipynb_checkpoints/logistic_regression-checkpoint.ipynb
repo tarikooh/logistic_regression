{
 "cells": [
  {
   "cell_type": "markdown",
   "id": "6d000a31-7a27-49a0-b79a-22d1c6340b86",
   "metadata": {},
   "source": [
    "## what do i need to import here what will i be working with\n",
    "- i need a h5py, to extract the data\n",
    "- i'm not gonna use the scikit-learn class right now because i'll be implementing the model\n",
    "  by my own.\n",
    "- that means i need a package/library that can handle matrices.\n",
    "- i also need a plotting library\n",
    "- i also need a library that provides mean and variance incase i need to scale the data\n",
    "-  "
   ]
  }
 ],
 "metadata": {
  "kernelspec": {
   "display_name": "Python 3 (ipykernel)",
   "language": "python",
   "name": "python3"
  },
  "language_info": {
   "codemirror_mode": {
    "name": "ipython",
    "version": 3
   },
   "file_extension": ".py",
   "mimetype": "text/x-python",
   "name": "python",
   "nbconvert_exporter": "python",
   "pygments_lexer": "ipython3",
   "version": "3.13.5"
  }
 },
 "nbformat": 4,
 "nbformat_minor": 5
}
